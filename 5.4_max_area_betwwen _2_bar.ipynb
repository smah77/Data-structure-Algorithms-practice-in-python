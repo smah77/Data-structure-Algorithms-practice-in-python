{
 "cells": [
  {
   "cell_type": "markdown",
   "metadata": {
    "collapsed": true,
    "pycharm": {
     "name": "#%% md\n"
    }
   },
   "source": [
    "Container With Most Water\n",
    "Given n non-negative integers a1, a2, ..., an , where each represents a point at coordinate (i, ai). n vertical lines are drawn such that the two endpoints of the line i is at (i, ai) and (i, 0). Find two lines, which, together with the x-axis forms a container, such that the container contains the most water.\n",
    "\n",
    "Notice that you may not slant the container.\n",
    "\n",
    "Example 1:\n",
    "Input: height = [1,8,6,2,5,4,8,3,7]\n",
    "Output: 49\n",
    "Explanation: The above vertical lines are represented by array [1,8,6,2,5,4,8,3,7]. In this case, the max area of water (blue section) the container can contain is 49.\n",
    "\n",
    "Example 2:\n",
    "Input: height = [1,1]\n",
    "Output: 1\n",
    "\n",
    "Example 3:\n",
    "Input: height = [4,3,2,1,4]\n",
    "Output: 16\n",
    "\n",
    "Example 4:\n",
    "Input: height = [1,2,1]\n",
    "Output: 2"
   ]
  },
  {
   "cell_type": "code",
   "execution_count": 3,
   "outputs": [],
   "source": [
    "class Solution:\n",
    "    def maxArea(self, heights):\n",
    "        maxarea=0\n",
    "        l=0\n",
    "        r=len(heights)-1\n",
    "\n",
    "        while(l<r):\n",
    "            maxarea=max(maxarea, min(heights[l],heights[r])*(r-l))\n",
    "            if(heights[l]<heights[r]):\n",
    "                l+=1\n",
    "            else:\n",
    "                r-=1\n",
    "        return maxarea"
   ],
   "metadata": {
    "collapsed": false,
    "pycharm": {
     "name": "#%%\n"
    }
   }
  },
  {
   "cell_type": "code",
   "execution_count": 7,
   "outputs": [
    {
     "data": {
      "text/plain": "49"
     },
     "execution_count": 7,
     "metadata": {},
     "output_type": "execute_result"
    }
   ],
   "source": [
    "#heights=[4,3,2,1,4]\n",
    "#heights = [1,1]\n",
    "heights = [1,8,6,2,5,4,8,3,7]\n",
    "s=Solution()\n",
    "s.maxArea(heights)"
   ],
   "metadata": {
    "collapsed": false,
    "pycharm": {
     "name": "#%%\n"
    }
   }
  }
 ],
 "metadata": {
  "kernelspec": {
   "display_name": "Python 3",
   "language": "python",
   "name": "python3"
  },
  "language_info": {
   "codemirror_mode": {
    "name": "ipython",
    "version": 2
   },
   "file_extension": ".py",
   "mimetype": "text/x-python",
   "name": "python",
   "nbconvert_exporter": "python",
   "pygments_lexer": "ipython2",
   "version": "2.7.6"
  }
 },
 "nbformat": 4,
 "nbformat_minor": 0
}