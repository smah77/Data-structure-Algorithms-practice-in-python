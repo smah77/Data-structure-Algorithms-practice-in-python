{
 "cells": [
  {
   "cell_type": "markdown",
   "metadata": {
    "collapsed": true,
    "pycharm": {
     "name": "#%% md\n"
    }
   },
   "source": [
    "Given the head of a linked list, remove the nth node from the end of the list and return its head.\n",
    "\n",
    "Follow up: Could you do this in one pass?\n",
    "\n",
    "\n",
    "\n",
    "Example 1:\n",
    "\n",
    "\n",
    "Input: head = [1,2,3,4,5], n = 2\n",
    "Output: [1,2,3,5]\n",
    "Example 2:\n",
    "\n",
    "Input: head = [1], n = 1\n",
    "Output: []\n",
    "Example 3:\n",
    "\n",
    "Input: head = [1,2], n = 1\n",
    "Output: [1]"
   ]
  },
  {
   "cell_type": "code",
   "execution_count": 7,
   "outputs": [
    {
     "name": "stdout",
     "output_type": "stream",
     "text": [
      "2\n",
      "3\n",
      "4\n",
      "5\n"
     ]
    }
   ],
   "source": [
    "class ListNode(object):\n",
    "    def __init__(self, val=0, next=None):\n",
    "        self.val = val\n",
    "        self.next = next\n",
    "def arrToLL(arr):\n",
    "    l=ListNode(arr[0])\n",
    "    head=l\n",
    "    for i in range(1,len(arr)):\n",
    "        temp_node=ListNode(arr[i])\n",
    "        #print(i)\n",
    "        #print(temp_node.val)\n",
    "        l.next=temp_node\n",
    "        l=l.next\n",
    "\n",
    "    #print(head.val)\n",
    "    return head\n",
    "\n",
    "arr=[2,3,4,5]\n",
    "head=arrToLL(arr)\n",
    "temp=head\n",
    "while temp is not None:\n",
    "    print(temp.val)\n",
    "    temp=temp.next"
   ],
   "metadata": {
    "collapsed": false,
    "pycharm": {
     "name": "#%%\n"
    }
   }
  },
  {
   "cell_type": "code",
   "execution_count": 8,
   "outputs": [],
   "source": [
    "class Solution:\n",
    "    def removeNthFromEnd(self, head: ListNode, n: int) -> ListNode:\n",
    "        ans = ListNode(0)\n",
    "        ans.next = head\n",
    "\n",
    "        first = ans\n",
    "        second = ans\n",
    "\n",
    "        for i in range(1,n+2):\n",
    "            first = first.next\n",
    "\n",
    "        while (first is not None):\n",
    "            first = first.next\n",
    "            second = second.next\n",
    "\n",
    "        second.next = second.next.next\n",
    "\n",
    "\n",
    "        return ans.next\n",
    "\n",
    "s=Solution()\n",
    "res=s.removeNthFromEnd(head,3)"
   ],
   "metadata": {
    "collapsed": false,
    "pycharm": {
     "name": "#%%\n"
    }
   }
  },
  {
   "cell_type": "code",
   "execution_count": 9,
   "outputs": [
    {
     "name": "stdout",
     "output_type": "stream",
     "text": [
      "2\n",
      "4\n",
      "5\n"
     ]
    }
   ],
   "source": [
    "temp=res\n",
    "while temp is not None:\n",
    "    print(temp.val)\n",
    "    temp=temp.next"
   ],
   "metadata": {
    "collapsed": false,
    "pycharm": {
     "name": "#%%\n"
    }
   }
  }
 ],
 "metadata": {
  "kernelspec": {
   "display_name": "Python 3",
   "language": "python",
   "name": "python3"
  },
  "language_info": {
   "codemirror_mode": {
    "name": "ipython",
    "version": 2
   },
   "file_extension": ".py",
   "mimetype": "text/x-python",
   "name": "python",
   "nbconvert_exporter": "python",
   "pygments_lexer": "ipython2",
   "version": "2.7.6"
  }
 },
 "nbformat": 4,
 "nbformat_minor": 0
}