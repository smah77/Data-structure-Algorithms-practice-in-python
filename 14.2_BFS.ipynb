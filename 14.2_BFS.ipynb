{
 "cells": [
  {
   "cell_type": "code",
   "execution_count": 4,
   "metadata": {
    "collapsed": true
   },
   "outputs": [
    {
     "name": "stdout",
     "output_type": "stream",
     "text": [
      "2 1 5 6 8 9 "
     ]
    }
   ],
   "source": [
    "from collections import defaultdict\n",
    "\n",
    "\n",
    "class Graph:\n",
    "\n",
    "    def __init__(self):\n",
    "        self.graph = defaultdict(list)\n",
    "\n",
    "    def setEdge(self, u, v):\n",
    "        self.graph[u].append(v)\n",
    "\n",
    "    def bfs(self, s):\n",
    "        visited = set()\n",
    "\n",
    "        queue = []\n",
    "        queue.append(s)\n",
    "\n",
    "        visited.add(s)\n",
    "\n",
    "        while queue:\n",
    "            u = queue.pop(0)\n",
    "            print(u, end=\" \")\n",
    "            visited.add(u)\n",
    "\n",
    "            for v in self.graph[u]:\n",
    "                if v not in visited:\n",
    "                    queue.append(v)\n",
    "\n",
    "\n",
    "\n",
    "g = Graph()\n",
    "g.setEdge(2, 1)\n",
    "g.setEdge(2, 5)\n",
    "g.setEdge(5, 6)\n",
    "g.setEdge(5, 8)\n",
    "g.setEdge(6, 9)\n",
    "\n",
    "g.bfs(2)"
   ]
  }
 ],
 "metadata": {
  "kernelspec": {
   "display_name": "Python 3",
   "language": "python",
   "name": "python3"
  },
  "language_info": {
   "codemirror_mode": {
    "name": "ipython",
    "version": 2
   },
   "file_extension": ".py",
   "mimetype": "text/x-python",
   "name": "python",
   "nbconvert_exporter": "python",
   "pygments_lexer": "ipython2",
   "version": "2.7.6"
  }
 },
 "nbformat": 4,
 "nbformat_minor": 0
}