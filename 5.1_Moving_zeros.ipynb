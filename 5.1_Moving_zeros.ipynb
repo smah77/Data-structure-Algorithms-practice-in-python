{
 "cells": [
  {
   "cell_type": "markdown",
   "source": [
    "Given an integer array nums, move all 0's to the end of it while maintaining the relative order of the non-zero elements.\n",
    "\n",
    "Note that you must do this in-place without making a copy of the array.\n",
    "\n",
    "\n",
    "\n",
    "Example 1:\n",
    "\n",
    "Input: nums = [0,1,0,3,12]\n",
    "Output: [1,3,12,0,0]\n",
    "Example 2:\n",
    "\n",
    "Input: nums = [0]\n",
    "Output: [0]"
   ],
   "metadata": {
    "collapsed": false
   }
  },
  {
   "cell_type": "code",
   "execution_count": 12,
   "outputs": [],
   "source": [
    "class Solution:\n",
    "    def moveingZeros(self, nums):\n",
    "        j=0\n",
    "        for num in nums:\n",
    "            if (num!=0):\n",
    "                nums[j]=num\n",
    "                j+=1\n",
    "        for i in range(j,len(nums)):\n",
    "            nums[i]=0"
   ],
   "metadata": {
    "collapsed": false,
    "pycharm": {
     "name": "#%%\n"
    }
   }
  },
  {
   "cell_type": "code",
   "execution_count": 13,
   "outputs": [
    {
     "name": "stdout",
     "output_type": "stream",
     "text": [
      "[1, 3, 12, 0, 0]\n"
     ]
    }
   ],
   "source": [
    "nums = [0,1,0,3,12]\n",
    "s=Solution()\n",
    "s.moveingZeros(nums)\n",
    "print(nums)"
   ],
   "metadata": {
    "collapsed": false,
    "pycharm": {
     "name": "#%%\n"
    }
   }
  }
 ],
 "metadata": {
  "kernelspec": {
   "display_name": "Python 3",
   "language": "python",
   "name": "python3"
  },
  "language_info": {
   "codemirror_mode": {
    "name": "ipython",
    "version": 2
   },
   "file_extension": ".py",
   "mimetype": "text/x-python",
   "name": "python",
   "nbconvert_exporter": "python",
   "pygments_lexer": "ipython2",
   "version": "2.7.6"
  }
 },
 "nbformat": 4,
 "nbformat_minor": 0
}