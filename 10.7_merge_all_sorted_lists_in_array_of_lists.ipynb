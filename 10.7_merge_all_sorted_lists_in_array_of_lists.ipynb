{
 "cells": [
  {
   "cell_type": "markdown",
   "metadata": {
    "collapsed": true,
    "pycharm": {
     "name": "#%% md\n"
    }
   },
   "source": [
    "23. Merge k Sorted Lists\n",
    "Hard\n",
    "\n",
    "7062\n",
    "\n",
    "355\n",
    "\n",
    "Add to List\n",
    "\n",
    "Share\n",
    "You are given an array of k linked-lists lists, each linked-list is sorted in ascending order.\n",
    "\n",
    "Merge all the linked-lists into one sorted linked-list and return it.\n",
    "\n",
    "\n",
    "\n",
    "Example 1:\n",
    "\n",
    "Input: lists = [[1,4,5],[1,3,4],[2,6]]\n",
    "Output: [1,1,2,3,4,4,5,6]\n",
    "Explanation: The linked-lists are:\n",
    "[\n",
    "  1->4->5,\n",
    "  1->3->4,\n",
    "  2->6\n",
    "]\n",
    "merging them into one sorted list:\n",
    "1->1->2->3->4->4->5->6\n",
    "Example 2:\n",
    "\n",
    "Input: lists = []\n",
    "Output: []\n",
    "Example 3:\n",
    "\n",
    "Input: lists = [[]]\n",
    "Output: []"
   ]
  },
  {
   "cell_type": "code",
   "execution_count": 2,
   "outputs": [],
   "source": [
    "class ListNode(object):\n",
    "    def __init__(self, val=0, next=None):\n",
    "        self.val = val\n",
    "        self.next = next\n",
    "\n",
    "class Solution:\n",
    "\n",
    "    def mergeTwoLists(self, l1, l2):\n",
    "        cur = ListNode(0)\n",
    "        ans = cur\n",
    "\n",
    "        while(l1 and l2):\n",
    "            if(l1.val > l2.val):\n",
    "                cur.next = l2\n",
    "                l2 = l2.next\n",
    "\n",
    "            else:\n",
    "                cur.next = l1\n",
    "                l1 = l1.next\n",
    "            cur = cur.next\n",
    "\n",
    "        while(l1):\n",
    "            cur.next = l1\n",
    "            l1 = l1.next\n",
    "            cur = cur.next\n",
    "        while(l2):\n",
    "            cur.next = l2\n",
    "            l2 = l2.next\n",
    "            cur = cur.next\n",
    "        return ans.next\n",
    "\n",
    "    def mergeKLists(self, lists):\n",
    "        if(len(lists) == 0):\n",
    "            return None\n",
    "\n",
    "        i = 0\n",
    "        last = len(lists)-1\n",
    "        j = last\n",
    "\n",
    "        while(last != 0):\n",
    "            i = 0\n",
    "            j = last\n",
    "\n",
    "            while(j > i):\n",
    "                lists[i] = self.mergeTwoLists(lists[i], lists[j])\n",
    "                i += 1\n",
    "                j -= 1\n",
    "                last = j\n",
    "\n",
    "        return lists[0]"
   ],
   "metadata": {
    "collapsed": false,
    "pycharm": {
     "name": "#%%\n"
    }
   }
  },
  {
   "cell_type": "code",
   "execution_count": 3,
   "outputs": [],
   "source": [
    "def arrToLL(arr):\n",
    "    l=ListNode(arr[0])\n",
    "    head=l\n",
    "    for i in range(1,len(arr)):\n",
    "        temp_node=ListNode(arr[i])\n",
    "        #print(i)\n",
    "        #print(temp_node.val)\n",
    "        l.next=temp_node\n",
    "        l=l.next\n",
    "\n",
    "    #print(head.val)\n",
    "    return head\n",
    "\n",
    "l1=[1,4,5]\n",
    "l1h=arrToLL(l1)\n",
    "l2=[1,3,4]\n",
    "l2h=arrToLL(l2)\n",
    "l3=[2,6]\n",
    "l3h=arrToLL(l3)"
   ],
   "metadata": {
    "collapsed": false,
    "pycharm": {
     "name": "#%%\n"
    }
   }
  },
  {
   "cell_type": "code",
   "execution_count": 4,
   "outputs": [
    {
     "name": "stdout",
     "output_type": "stream",
     "text": [
      "<__main__.ListNode object at 0x0000022628453610>\n"
     ]
    }
   ],
   "source": [
    "lists = [l1h,l2h,l3h]\n",
    "s=Solution()\n",
    "res=s.mergeKLists(lists)\n",
    "print(res)"
   ],
   "metadata": {
    "collapsed": false,
    "pycharm": {
     "name": "#%%\n"
    }
   }
  },
  {
   "cell_type": "code",
   "execution_count": 5,
   "outputs": [
    {
     "name": "stdout",
     "output_type": "stream",
     "text": [
      "1\n",
      "1\n",
      "2\n",
      "3\n",
      "4\n",
      "4\n",
      "5\n",
      "6\n"
     ]
    }
   ],
   "source": [
    "temp=res\n",
    "while temp is not None:\n",
    "    print(temp.val)\n",
    "    temp=temp.next"
   ],
   "metadata": {
    "collapsed": false,
    "pycharm": {
     "name": "#%%\n"
    }
   }
  }
 ],
 "metadata": {
  "kernelspec": {
   "display_name": "Python 3",
   "language": "python",
   "name": "python3"
  },
  "language_info": {
   "codemirror_mode": {
    "name": "ipython",
    "version": 2
   },
   "file_extension": ".py",
   "mimetype": "text/x-python",
   "name": "python",
   "nbconvert_exporter": "python",
   "pygments_lexer": "ipython2",
   "version": "2.7.6"
  }
 },
 "nbformat": 4,
 "nbformat_minor": 0
}