{
 "cells": [
  {
   "cell_type": "code",
   "execution_count": 2,
   "metadata": {
    "collapsed": true
   },
   "outputs": [
    {
     "name": "stdout",
     "output_type": "stream",
     "text": [
      "1 -> 2\n",
      "2 -> 3\n",
      "4 -> 5\n"
     ]
    }
   ],
   "source": [
    "from collections import defaultdict\n",
    "\n",
    "\n",
    "class Graph:\n",
    "    def __init__(self):\n",
    "        self.graph = defaultdict(list)\n",
    "\n",
    "    def insertEdge(self, v1, v2):\n",
    "        self.graph[v1].append(v2)\n",
    "\n",
    "    def printGraph(self):\n",
    "        for node in self.graph:\n",
    "            for v in self.graph[node]:\n",
    "                print(node, \"->\", v)\n",
    "\n",
    "\n",
    "g = Graph()\n",
    "\n",
    "g.insertEdge(1, 2)\n",
    "g.insertEdge(2, 3)\n",
    "g.insertEdge(4, 5)\n",
    "\n",
    "g.printGraph()"
   ]
  }
 ],
 "metadata": {
  "kernelspec": {
   "display_name": "Python 3",
   "language": "python",
   "name": "python3"
  },
  "language_info": {
   "codemirror_mode": {
    "name": "ipython",
    "version": 2
   },
   "file_extension": ".py",
   "mimetype": "text/x-python",
   "name": "python",
   "nbconvert_exporter": "python",
   "pygments_lexer": "ipython2",
   "version": "2.7.6"
  }
 },
 "nbformat": 4,
 "nbformat_minor": 0
}