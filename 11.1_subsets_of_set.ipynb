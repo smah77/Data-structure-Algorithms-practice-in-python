{
 "cells": [
  {
   "cell_type": "markdown",
   "metadata": {
    "collapsed": true,
    "pycharm": {
     "name": "#%% md\n"
    }
   },
   "source": [
    "Given an integer array nums of unique elements, return all possible subsets (the power set).\n",
    "\n",
    "The solution set must not contain duplicate subsets. Return the solution in any order.\n",
    "\n",
    "\n",
    "\n",
    "Example 1:\n",
    "\n",
    "Input: nums = [1,2,3]\n",
    "Output: [[],[1],[2],[1,2],[3],[1,3],[2,3],[1,2,3]]\n",
    "Example 2:\n",
    "\n",
    "Input: nums = [0]\n",
    "Output: [[],[0]]"
   ]
  },
  {
   "cell_type": "code",
   "execution_count": 2,
   "outputs": [
    {
     "name": "stdout",
     "output_type": "stream",
     "text": [
      "[[], [1], [1, 2], [2]]\n"
     ]
    }
   ],
   "source": [
    "class Solution:\n",
    "    def solution(self,nums,ans,cur,index):\n",
    "        if(index>len(nums)):\n",
    "            return\n",
    "        ans.append(cur[:])\n",
    "        for i in range(index,len(nums)):\n",
    "            if(nums[i] not in cur):\n",
    "                cur.append(nums[i])\n",
    "                self.solution(nums,ans,cur,i)\n",
    "                cur.pop()\n",
    "        return\n",
    "    def subsets(self, nums):\n",
    "        ans = []\n",
    "        cur = []\n",
    "        self.solution(nums,ans,cur,0)\n",
    "        return ans\n",
    "s=Solution()\n",
    "res=s.subsets([1,2])\n",
    "print(res)"
   ],
   "metadata": {
    "collapsed": false,
    "pycharm": {
     "name": "#%%\n"
    }
   }
  }
 ],
 "metadata": {
  "kernelspec": {
   "display_name": "Python 3",
   "language": "python",
   "name": "python3"
  },
  "language_info": {
   "codemirror_mode": {
    "name": "ipython",
    "version": 2
   },
   "file_extension": ".py",
   "mimetype": "text/x-python",
   "name": "python",
   "nbconvert_exporter": "python",
   "pygments_lexer": "ipython2",
   "version": "2.7.6"
  }
 },
 "nbformat": 4,
 "nbformat_minor": 0
}