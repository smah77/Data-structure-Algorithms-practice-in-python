{
 "cells": [
  {
   "cell_type": "code",
   "execution_count": 105,
   "outputs": [
    {
     "name": "stdout",
     "output_type": "stream",
     "text": [
      "2\n",
      "3\n",
      "4\n",
      "5\n"
     ]
    }
   ],
   "source": [
    "# Definition for singly-linked list.\n",
    "class ListNode(object):\n",
    "    def __init__(self, val=0, next=None):\n",
    "        self.val = val\n",
    "        self.next = next\n",
    "def arrToLL(arr):\n",
    "    l=ListNode(arr[0])\n",
    "    head=l\n",
    "    for i in range(1,len(arr)):\n",
    "        temp_node=ListNode(arr[i])\n",
    "        #print(i)\n",
    "        #print(temp_node.val)\n",
    "        l.next=temp_node\n",
    "        l=l.next\n",
    "\n",
    "    #print(head.val)\n",
    "    return head\n",
    "\n",
    "arr=[2,3,4,5]\n",
    "head=arrToLL(arr)\n",
    "temp=head\n",
    "while temp is not None:\n",
    "    print(temp.val)\n",
    "    temp=temp.next"
   ],
   "metadata": {
    "collapsed": false,
    "pycharm": {
     "name": "#%%\n"
    }
   }
  },
  {
   "cell_type": "code",
   "execution_count": 110,
   "outputs": [],
   "source": [
    "class Solution:\n",
    "    def reverseList(self,head):\n",
    "        node = None\n",
    "        while(head is not None):\n",
    "            next = head.next\n",
    "            head.next = node\n",
    "            node = head\n",
    "            head = next\n",
    "        return node\n"
   ],
   "metadata": {
    "collapsed": false,
    "pycharm": {
     "name": "#%%\n"
    }
   }
  },
  {
   "cell_type": "code",
   "execution_count": 111,
   "outputs": [
    {
     "name": "stdout",
     "output_type": "stream",
     "text": [
      "5\n",
      "4\n",
      "3\n",
      "2\n"
     ]
    }
   ],
   "source": [
    "s=Solution()\n",
    "res=s.reverseList(head)\n",
    "temp=res\n",
    "while temp is not None:\n",
    "    print(temp.val)\n",
    "    temp=temp.next"
   ],
   "metadata": {
    "collapsed": false,
    "pycharm": {
     "name": "#%%\n"
    }
   }
  }
 ],
 "metadata": {
  "kernelspec": {
   "display_name": "Python 3",
   "language": "python",
   "name": "python3"
  },
  "language_info": {
   "codemirror_mode": {
    "name": "ipython",
    "version": 2
   },
   "file_extension": ".py",
   "mimetype": "text/x-python",
   "name": "python",
   "nbconvert_exporter": "python",
   "pygments_lexer": "ipython2",
   "version": "2.7.6"
  }
 },
 "nbformat": 4,
 "nbformat_minor": 0
}