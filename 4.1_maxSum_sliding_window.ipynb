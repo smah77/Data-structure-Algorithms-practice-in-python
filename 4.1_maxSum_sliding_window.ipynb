{
 "cells": [
  {
   "cell_type": "code",
   "execution_count": 2,
   "metadata": {
    "collapsed": true
   },
   "outputs": [],
   "source": [
    "def maxSum(arr, windowSize):\n",
    "    arraySize=len(arr)\n",
    "    if arraySize<=windowSize:\n",
    "        print(\"invalid operation\")\n",
    "        return -1\n",
    "    # Compute sum of first window of size k\n",
    "    window_sum=sum([arr[i] for i in range(windowSize)])\n",
    "    max_sum=window_sum\n",
    "\n",
    "    for i in range(arraySize-windowSize):\n",
    "        window_sum=window_sum-arr[i]+arr[i+windowSize]\n",
    "        max_sum=max(window_sum,max_sum)\n",
    "    return max_sum"
   ]
  },
  {
   "cell_type": "code",
   "execution_count": 3,
   "outputs": [
    {
     "name": "stdout",
     "output_type": "stream",
     "text": [
      "104\n"
     ]
    }
   ],
   "source": [
    "arr = [1, 2, 100, -1, 5]\n",
    "# maximum sum should be 104 => 100 + -1 + 5\n",
    "answer = maxSum(arr, 3)\n",
    "print(answer)"
   ],
   "metadata": {
    "collapsed": false,
    "pycharm": {
     "name": "#%%\n"
    }
   }
  }
 ],
 "metadata": {
  "kernelspec": {
   "display_name": "Python 3",
   "language": "python",
   "name": "python3"
  },
  "language_info": {
   "codemirror_mode": {
    "name": "ipython",
    "version": 2
   },
   "file_extension": ".py",
   "mimetype": "text/x-python",
   "name": "python",
   "nbconvert_exporter": "python",
   "pygments_lexer": "ipython2",
   "version": "2.7.6"
  }
 },
 "nbformat": 4,
 "nbformat_minor": 0
}