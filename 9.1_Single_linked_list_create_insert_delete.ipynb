{
 "cells": [
  {
   "cell_type": "code",
   "execution_count": 6,
   "metadata": {
    "collapsed": true
   },
   "outputs": [],
   "source": [
    "class Node:\n",
    "    def __init__(self,data):\n",
    "        self.data=data\n",
    "        self.next=None\n",
    "\n",
    "class LinkedList:\n",
    "    def __init__(self):\n",
    "        self.head=None\n",
    "\n",
    "    def printList(self):\n",
    "        temp=self.head\n",
    "        linked_list=\"\"\n",
    "        while(temp):\n",
    "            linked_list+=(str(temp.data)+\" \")\n",
    "            temp=temp.next\n",
    "        print(linked_list)\n",
    "\n",
    "    def insertNode(self,val,pos):\n",
    "        target=Node(val)\n",
    "        if(pos==0):\n",
    "            target.next=self.head\n",
    "            self.head=target\n",
    "            return\n",
    "\n",
    "        def getPrev(pos):\n",
    "            temp=self.head\n",
    "            count=1\n",
    "            while(count<pos):\n",
    "                temp=temp.next\n",
    "                count+=1\n",
    "            return temp\n",
    "\n",
    "        prev=getPrev(pos)\n",
    "        nextNode=prev.next\n",
    "        prev.next=target\n",
    "        target.next=nextNode\n",
    "\n",
    "    def deleteNode(self,key):\n",
    "        temp=self.head\n",
    "        if(temp is None):\n",
    "            return\n",
    "        if(temp.data==key):\n",
    "            self.head=temp.next\n",
    "            temp=None\n",
    "            return\n",
    "        while(temp.next.data!=key):\n",
    "            temp=temp.next\n",
    "\n",
    "        target_node=temp.next\n",
    "        temp.next=target_node.next\n",
    "        target_node.next=None\n",
    "\n"
   ]
  },
  {
   "cell_type": "code",
   "execution_count": 7,
   "outputs": [
    {
     "name": "stdout",
     "output_type": "stream",
     "text": [
      "5 1 3 7 \n",
      "5 1 2 3 7 \n",
      "5 1 3 7 \n"
     ]
    }
   ],
   "source": [
    "linked_list=LinkedList()\n",
    "linked_list.head=Node(5)\n",
    "s_n=Node(1)\n",
    "t_n=Node(3)\n",
    "f_n=Node(7)\n",
    "\n",
    "linked_list.head.next=s_n\n",
    "s_n.next=t_n\n",
    "t_n.next=f_n\n",
    "\n",
    "linked_list.printList()\n",
    "\n",
    "linked_list.insertNode(2,2)\n",
    "linked_list.printList()\n",
    "\n",
    "linked_list.deleteNode(2)\n",
    "linked_list.printList()"
   ],
   "metadata": {
    "collapsed": false,
    "pycharm": {
     "name": "#%%\n"
    }
   }
  }
 ],
 "metadata": {
  "kernelspec": {
   "display_name": "Python 3",
   "language": "python",
   "name": "python3"
  },
  "language_info": {
   "codemirror_mode": {
    "name": "ipython",
    "version": 2
   },
   "file_extension": ".py",
   "mimetype": "text/x-python",
   "name": "python",
   "nbconvert_exporter": "python",
   "pygments_lexer": "ipython2",
   "version": "2.7.6"
  }
 },
 "nbformat": 4,
 "nbformat_minor": 0
}