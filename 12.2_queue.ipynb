{
 "cells": [
  {
   "cell_type": "code",
   "execution_count": 2,
   "metadata": {
    "collapsed": true
   },
   "outputs": [],
   "source": [
    "class QueueLine:\n",
    "    def __init__(self):\n",
    "        self.q = []\n",
    "\n",
    "    def enqueue(self, x: int) -> None:\n",
    "        self.q.append(x)\n",
    "\n",
    "\n",
    "    def dequeue(self) -> None:\n",
    "        if(len(self.q) > 0):\n",
    "            self.q.pop(0)\n",
    "\n",
    "    def front(self) -> int:\n",
    "        if(len(self.q) == 0):\n",
    "            return None\n",
    "\n",
    "        return self.q[0]"
   ]
  },
  {
   "cell_type": "code",
   "execution_count": 3,
   "outputs": [
    {
     "name": "stdout",
     "output_type": "stream",
     "text": [
      "[1, 2, 3]\n"
     ]
    }
   ],
   "source": [
    "s=QueueLine()\n",
    "s.enqueue(1)\n",
    "s.enqueue(2)\n",
    "s.enqueue(3)\n",
    "print(s.q)"
   ],
   "metadata": {
    "collapsed": false,
    "pycharm": {
     "name": "#%%\n"
    }
   }
  },
  {
   "cell_type": "code",
   "execution_count": 4,
   "outputs": [
    {
     "name": "stdout",
     "output_type": "stream",
     "text": [
      "[2, 3]\n"
     ]
    }
   ],
   "source": [
    "s.dequeue()\n",
    "print(s.q)"
   ],
   "metadata": {
    "collapsed": false,
    "pycharm": {
     "name": "#%%\n"
    }
   }
  }
 ],
 "metadata": {
  "kernelspec": {
   "display_name": "Python 3",
   "language": "python",
   "name": "python3"
  },
  "language_info": {
   "codemirror_mode": {
    "name": "ipython",
    "version": 2
   },
   "file_extension": ".py",
   "mimetype": "text/x-python",
   "name": "python",
   "nbconvert_exporter": "python",
   "pygments_lexer": "ipython2",
   "version": "2.7.6"
  }
 },
 "nbformat": 4,
 "nbformat_minor": 0
}