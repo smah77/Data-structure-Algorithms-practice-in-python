{
 "cells": [
  {
   "cell_type": "markdown",
   "metadata": {
    "collapsed": true,
    "pycharm": {
     "name": "#%% md\n"
    }
   },
   "source": [
    "Given an array of integers arr, return true if and only if it is a valid mountain array.\n",
    "\n",
    "Recall that arr is a mountain array if and only if:\n",
    "\n",
    "arr.length >= 3\n",
    "There exists some i with 0 < i < arr.length - 1 such that:\n",
    "arr[0] < arr[1] < ... < arr[i - 1] < arr[i]\n",
    "arr[i] > arr[i + 1] > ... > arr[arr.length - 1]\n",
    "\n",
    "Example 1:\n",
    "\n",
    "Input: arr = [2,1]\n",
    "Output: false\n",
    "Example 2:\n",
    "\n",
    "Input: arr = [3,5,5]\n",
    "Output: false\n",
    "Example 3:\n",
    "\n",
    "Input: arr = [0,3,2,1]\n",
    "Output: true\n",
    "\n",
    "\n",
    "Constraints:\n",
    "\n",
    "1 <= arr.length <= 104\n",
    "0 <= arr[i] <= 104"
   ]
  },
  {
   "cell_type": "code",
   "execution_count": 1,
   "outputs": [],
   "source": [
    "class Solution:\n",
    "    def validMountain(self,arr):\n",
    "        if(len(arr)<3):\n",
    "            return False\n",
    "        i=1\n",
    "        while(i<len(arr) and arr[i]>arr[i-1]):\n",
    "            i+=1\n",
    "        if(i==1 or i==len(arr)):\n",
    "            return False\n",
    "        while(i<len(arr) and arr[i]<arr[i-1]):\n",
    "            i+=1\n",
    "        return i==len(arr)"
   ],
   "metadata": {
    "collapsed": false,
    "pycharm": {
     "name": "#%%\n"
    }
   }
  },
  {
   "cell_type": "code",
   "execution_count": 5,
   "outputs": [
    {
     "name": "stdout",
     "output_type": "stream",
     "text": [
      "True\n"
     ]
    }
   ],
   "source": [
    "#arr=[2,1]\n",
    "#arr = [3,5,5]\n",
    "arr = [0,3,2,1]\n",
    "s=Solution()\n",
    "ans=s.validMountain(arr)\n",
    "print(ans)"
   ],
   "metadata": {
    "collapsed": false,
    "pycharm": {
     "name": "#%%\n"
    }
   }
  }
 ],
 "metadata": {
  "kernelspec": {
   "display_name": "Python 3",
   "language": "python",
   "name": "python3"
  },
  "language_info": {
   "codemirror_mode": {
    "name": "ipython",
    "version": 2
   },
   "file_extension": ".py",
   "mimetype": "text/x-python",
   "name": "python",
   "nbconvert_exporter": "python",
   "pygments_lexer": "ipython2",
   "version": "2.7.6"
  }
 },
 "nbformat": 4,
 "nbformat_minor": 0
}