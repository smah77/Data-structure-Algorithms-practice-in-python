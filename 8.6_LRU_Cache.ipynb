{
 "cells": [
  {
   "cell_type": "code",
   "execution_count": 1,
   "metadata": {
    "collapsed": true
   },
   "outputs": [],
   "source": [
    "from collections import deque\n",
    "\n",
    "class LRUCache:\n",
    "    def __init__(self, capacitay):\n",
    "        self.c=capacitay\n",
    "        self.m=dict()\n",
    "        self.deq=deque()\n",
    "\n",
    "    def get(self,key):\n",
    "        if key in self.m:\n",
    "            value=self.m[key]\n",
    "            self.deq.remove(key)\n",
    "            self.deq.append(key)\n",
    "            return value\n",
    "        else:\n",
    "            return -1\n",
    "\n",
    "    def put(self,key,value):\n",
    "        if key not in self.m:\n",
    "            if len(self.deq)==self.c:\n",
    "                oldest=self.deq.popleft()\n",
    "                del self.m[oldest]\n",
    "        else:\n",
    "            self.deq.remove(key)\n",
    "\n",
    "        self.m[key]=value\n",
    "        self.deq.append(key)"
   ]
  },
  {
   "cell_type": "code",
   "execution_count": 6,
   "outputs": [
    {
     "name": "stdout",
     "output_type": "stream",
     "text": [
      "{1: 1000, 2: 2000, 3: 3000}\n",
      "deque([1, 2, 3])\n",
      "{1: 1000, 2: 2000, 3: 3000}\n",
      "deque([1, 3, 2])\n",
      "{2: 2000, 3: 3000, 4: 4000}\n",
      "deque([3, 2, 4])\n"
     ]
    }
   ],
   "source": [
    "s=LRUCache(3)\n",
    "s.put(1,1000)\n",
    "s.put(2,2000)\n",
    "s.put(3,3000)\n",
    "\n",
    "print(s.m)\n",
    "print(s.deq)\n",
    "\n",
    "s.get(2)\n",
    "print(s.m)\n",
    "print(s.deq)\n",
    "\n",
    "s.put(4,4000)\n",
    "\n",
    "print(s.m)\n",
    "print(s.deq)"
   ],
   "metadata": {
    "collapsed": false,
    "pycharm": {
     "name": "#%%\n"
    }
   }
  }
 ],
 "metadata": {
  "kernelspec": {
   "display_name": "Python 3",
   "language": "python",
   "name": "python3"
  },
  "language_info": {
   "codemirror_mode": {
    "name": "ipython",
    "version": 2
   },
   "file_extension": ".py",
   "mimetype": "text/x-python",
   "name": "python",
   "nbconvert_exporter": "python",
   "pygments_lexer": "ipython2",
   "version": "2.7.6"
  }
 },
 "nbformat": 4,
 "nbformat_minor": 0
}