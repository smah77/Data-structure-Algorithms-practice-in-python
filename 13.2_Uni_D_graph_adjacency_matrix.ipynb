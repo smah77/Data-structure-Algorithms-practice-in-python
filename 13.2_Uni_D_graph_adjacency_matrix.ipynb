{
 "cells": [
  {
   "cell_type": "code",
   "execution_count": 2,
   "metadata": {
    "collapsed": true
   },
   "outputs": [
    {
     "name": "stdout",
     "output_type": "stream",
     "text": [
      "5\n",
      "6\n",
      "1 -> 2\n",
      "2 -> 3\n",
      "4 -> 5\n"
     ]
    }
   ],
   "source": [
    "from collections import defaultdict\n",
    "\n",
    "class Graph:\n",
    "    def __init__(self, numberOfNodes):\n",
    "        self.numberOfNodes = numberOfNodes+1\n",
    "        #print(numberOfNodes)\n",
    "        #print(self.numberOfNodes)\n",
    "        self.graph = [[0 for x in range(numberOfNodes+1)]\n",
    "                      for y in range(numberOfNodes+1)]\n",
    "\n",
    "    def withInBounds(self, v1, v2):\n",
    "        return (v1 >= 0 and v1 <= self.numberOfNodes) and (v2 >= 0 and v2 <= self.numberOfNodes)\n",
    "\n",
    "    def insertEdge(self, v1, v2):\n",
    "        if(self.withInBounds(v1, v2)):\n",
    "            self.graph[v1][v2] = 1\n",
    "\n",
    "    def printGraph(self):\n",
    "        for i in range(self.numberOfNodes):\n",
    "            for j in range(len(self.graph[i])):\n",
    "                if(self.graph[i][j]):\n",
    "                    print(i, \"->\", j)\n"
   ]
  },
  {
   "cell_type": "code",
   "execution_count": null,
   "outputs": [],
   "source": [
    "g = Graph(5)\n",
    "\n",
    "g.insertEdge(1, 2)\n",
    "g.insertEdge(2, 3)\n",
    "g.insertEdge(4, 5)\n",
    "\n",
    "g.printGraph()\n"
   ],
   "metadata": {
    "collapsed": false,
    "pycharm": {
     "name": "#%%\n"
    }
   }
  }
 ],
 "metadata": {
  "kernelspec": {
   "display_name": "Python 3",
   "language": "python",
   "name": "python3"
  },
  "language_info": {
   "codemirror_mode": {
    "name": "ipython",
    "version": 2
   },
   "file_extension": ".py",
   "mimetype": "text/x-python",
   "name": "python",
   "nbconvert_exporter": "python",
   "pygments_lexer": "ipython2",
   "version": "2.7.6"
  }
 },
 "nbformat": 4,
 "nbformat_minor": 0
}