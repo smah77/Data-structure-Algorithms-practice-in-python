{
 "cells": [
  {
   "cell_type": "code",
   "execution_count": 22,
   "metadata": {
    "collapsed": true
   },
   "outputs": [],
   "source": [
    "# Definition for singly-linked list.\n",
    "class ListNode(object):\n",
    "    def __init__(self, val=0, next=None):\n",
    "        self.val = val\n",
    "        self.next = next"
   ]
  },
  {
   "cell_type": "code",
   "execution_count": 23,
   "outputs": [
    {
     "name": "stdout",
     "output_type": "stream",
     "text": [
      "1\n",
      "3\n",
      "5\n",
      "8\n",
      "3\n"
     ]
    }
   ],
   "source": [
    "\n",
    "fs_n=ListNode(1)\n",
    "head=fs_n\n",
    "s_n=ListNode(3)\n",
    "t_n=ListNode(5)\n",
    "f_n=ListNode(8)\n",
    "ff_n=ListNode(3)\n",
    "\n",
    "fs_n.next=s_n\n",
    "s_n.next=t_n\n",
    "t_n.next=f_n\n",
    "f_n.next=ff_n\n",
    "\n",
    "temp=fs_n\n",
    "while temp is not None:\n",
    "    print(temp.val)\n",
    "    temp=temp.next"
   ],
   "metadata": {
    "collapsed": false,
    "pycharm": {
     "name": "#%%\n"
    }
   }
  },
  {
   "cell_type": "code",
   "execution_count": 24,
   "outputs": [
    {
     "name": "stdout",
     "output_type": "stream",
     "text": [
      "True\n"
     ]
    }
   ],
   "source": [
    "class Sol_cycle:\n",
    "    def cycleD(self,ln):\n",
    "        slow=ln\n",
    "        fast=ln\n",
    "\n",
    "        while slow and fast.next and fast.next.next:\n",
    "            fast=fast.next.next\n",
    "            slow=slow.next\n",
    "            if slow.val==fast.val:\n",
    "                return True\n",
    "        return False\n",
    "ss=Sol_cycle()\n",
    "head.next.next.next.next = head\n",
    "res=ss.cycleD(head)\n",
    "print(res)\n"
   ],
   "metadata": {
    "collapsed": false,
    "pycharm": {
     "name": "#%%\n"
    }
   }
  }
 ],
 "metadata": {
  "kernelspec": {
   "display_name": "Python 3",
   "language": "python",
   "name": "python3"
  },
  "language_info": {
   "codemirror_mode": {
    "name": "ipython",
    "version": 2
   },
   "file_extension": ".py",
   "mimetype": "text/x-python",
   "name": "python",
   "nbconvert_exporter": "python",
   "pygments_lexer": "ipython2",
   "version": "2.7.6"
  }
 },
 "nbformat": 4,
 "nbformat_minor": 0
}