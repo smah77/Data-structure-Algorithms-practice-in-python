{
 "cells": [
  {
   "cell_type": "code",
   "execution_count": 37,
   "outputs": [],
   "source": [
    "class Node:\n",
    "    def __init__(self,data):\n",
    "        self.data=data\n",
    "        self.next=None\n",
    "\n",
    "class LinkedList:\n",
    "    def __init__(self):\n",
    "        self.head=None\n",
    "\n",
    "    def printList(self):\n",
    "        temp=self.head\n",
    "        linked_list=\"\"\n",
    "        while(temp):\n",
    "            linked_list+=(str(temp.data)+\" \")\n",
    "            temp=temp.next\n",
    "        print(linked_list)\n",
    "\n",
    "    def insertNode(self,val,pos):\n",
    "        target=Node(val)\n",
    "        if(pos==0):\n",
    "            target.next=self.head\n",
    "            self.head=target\n",
    "            return\n",
    "\n",
    "        def getPrev(pos):\n",
    "            temp=self.head\n",
    "            count=1\n",
    "            while(count<pos):\n",
    "                temp=temp.next\n",
    "                count+=1\n",
    "            return temp\n",
    "\n",
    "        prev=getPrev(pos)\n",
    "        nextNode=prev.next\n",
    "        prev.next=target\n",
    "        target.next=nextNode\n",
    "\n",
    "    def deleteNode(self,key):\n",
    "        temp=self.head\n",
    "        if(temp is None):\n",
    "            return\n",
    "        if(temp.data==key):\n",
    "            self.head=temp.next\n",
    "            temp=None\n",
    "            return\n",
    "        while(temp.next.data!=key):\n",
    "            temp=temp.next\n",
    "\n",
    "        target_node=temp.next\n",
    "        temp.next=target_node.next\n",
    "        target_node.next=None\n",
    "\n"
   ],
   "metadata": {
    "collapsed": false,
    "pycharm": {
     "name": "#%%\n"
    }
   }
  },
  {
   "cell_type": "code",
   "execution_count": 38,
   "outputs": [
    {
     "name": "stdout",
     "output_type": "stream",
     "text": [
      "1 3 5 7 \n",
      "2 4 5 6 \n"
     ]
    }
   ],
   "source": [
    "linked_list1=LinkedList()\n",
    "linked_list1.head=Node(1)\n",
    "s_n=Node(3)\n",
    "t_n=Node(5)\n",
    "f_n=Node(7)\n",
    "\n",
    "linked_list1.head.next=s_n\n",
    "s_n.next=t_n\n",
    "t_n.next=f_n\n",
    "\n",
    "linked_list1.printList()\n",
    "\n",
    "linked_list2=LinkedList()\n",
    "linked_list2.head=Node(2)\n",
    "s_n=Node(4)\n",
    "t_n=Node(5)\n",
    "f_n=Node(6)\n",
    "\n",
    "linked_list2.head.next=s_n\n",
    "s_n.next=t_n\n",
    "t_n.next=f_n\n",
    "\n",
    "linked_list2.printList()"
   ],
   "metadata": {
    "collapsed": false,
    "pycharm": {
     "name": "#%%\n"
    }
   }
  },
  {
   "cell_type": "code",
   "execution_count": 39,
   "outputs": [
    {
     "ename": "AttributeError",
     "evalue": "'LinkedList' object has no attribute 'data'",
     "output_type": "error",
     "traceback": [
      "\u001B[1;31m---------------------------------------------------------------------------\u001B[0m",
      "\u001B[1;31mAttributeError\u001B[0m                            Traceback (most recent call last)",
      "\u001B[1;32m<ipython-input-39-a7008e9ab137>\u001B[0m in \u001B[0;36m<module>\u001B[1;34m\u001B[0m\n\u001B[0;32m     35\u001B[0m \u001B[1;33m\u001B[0m\u001B[0m\n\u001B[0;32m     36\u001B[0m \u001B[0ms_ml\u001B[0m\u001B[1;33m=\u001B[0m\u001B[0mSolution_ml\u001B[0m\u001B[1;33m(\u001B[0m\u001B[1;33m)\u001B[0m\u001B[1;33m\u001B[0m\u001B[1;33m\u001B[0m\u001B[0m\n\u001B[1;32m---> 37\u001B[1;33m \u001B[0mres\u001B[0m\u001B[1;33m=\u001B[0m\u001B[0ms_ml\u001B[0m\u001B[1;33m.\u001B[0m\u001B[0mmergeTwoLists\u001B[0m\u001B[1;33m(\u001B[0m\u001B[0mlinked_list1\u001B[0m\u001B[1;33m,\u001B[0m\u001B[0mlinked_list2\u001B[0m\u001B[1;33m)\u001B[0m\u001B[1;33m\u001B[0m\u001B[1;33m\u001B[0m\u001B[0m\n\u001B[0m\u001B[0;32m     38\u001B[0m \u001B[1;32mwhile\u001B[0m \u001B[0mres\u001B[0m \u001B[1;32mis\u001B[0m \u001B[1;32mnot\u001B[0m \u001B[1;32mNone\u001B[0m\u001B[1;33m:\u001B[0m\u001B[1;33m\u001B[0m\u001B[1;33m\u001B[0m\u001B[0m\n\u001B[0;32m     39\u001B[0m     \u001B[0mprint\u001B[0m\u001B[1;33m(\u001B[0m\u001B[0mres\u001B[0m\u001B[1;33m.\u001B[0m\u001B[0mdata\u001B[0m\u001B[1;33m)\u001B[0m\u001B[1;33m\u001B[0m\u001B[1;33m\u001B[0m\u001B[0m\n",
      "\u001B[1;32m<ipython-input-39-a7008e9ab137>\u001B[0m in \u001B[0;36mmergeTwoLists\u001B[1;34m(self, l1, l2)\u001B[0m\n\u001B[0;32m      9\u001B[0m         \u001B[0mcount\u001B[0m\u001B[1;33m=\u001B[0m\u001B[1;36m0\u001B[0m\u001B[1;33m\u001B[0m\u001B[1;33m\u001B[0m\u001B[0m\n\u001B[0;32m     10\u001B[0m         \u001B[1;32mwhile\u001B[0m \u001B[0mt1\u001B[0m \u001B[1;32mand\u001B[0m \u001B[0mt2\u001B[0m\u001B[1;33m:\u001B[0m\u001B[1;33m\u001B[0m\u001B[1;33m\u001B[0m\u001B[0m\n\u001B[1;32m---> 11\u001B[1;33m             \u001B[1;32mif\u001B[0m \u001B[0mt1\u001B[0m\u001B[1;33m.\u001B[0m\u001B[0mdata\u001B[0m\u001B[1;33m>\u001B[0m\u001B[0mt2\u001B[0m\u001B[1;33m.\u001B[0m\u001B[0mdata\u001B[0m\u001B[1;33m:\u001B[0m\u001B[1;33m\u001B[0m\u001B[1;33m\u001B[0m\u001B[0m\n\u001B[0m\u001B[0;32m     12\u001B[0m                 \u001B[0mtemp\u001B[0m\u001B[1;33m.\u001B[0m\u001B[0mnext\u001B[0m\u001B[1;33m=\u001B[0m\u001B[0mt2\u001B[0m\u001B[1;33m\u001B[0m\u001B[1;33m\u001B[0m\u001B[0m\n\u001B[0;32m     13\u001B[0m                 \u001B[0mt2\u001B[0m\u001B[1;33m=\u001B[0m\u001B[0mt2\u001B[0m\u001B[1;33m.\u001B[0m\u001B[0mnext\u001B[0m\u001B[1;33m\u001B[0m\u001B[1;33m\u001B[0m\u001B[0m\n",
      "\u001B[1;31mAttributeError\u001B[0m: 'LinkedList' object has no attribute 'data'"
     ]
    }
   ],
   "source": [
    "class Solution_ml:\n",
    "    def mergeTwoLists(self, l1, l2):\n",
    "        t1=l1.head\n",
    "        t2=l2.head\n",
    "        dummyNode=Node(0)\n",
    "        temp=dummyNode\n",
    "        #1 3 5 7\n",
    "        #2 4 5 6\n",
    "        count=0\n",
    "        while t1 and t2:\n",
    "            if t1.data>t2.data:\n",
    "                temp.next=t2\n",
    "                t2=t2.next\n",
    "            elif t1.data<=t2.data:\n",
    "                temp.next=t1\n",
    "                t1=t1.next\n",
    "            if count==0:\n",
    "                count+=1\n",
    "                ans=temp.next\n",
    "            temp=temp.next\n",
    "\n",
    "        while(t1):\n",
    "            temp.next=t1\n",
    "            t1=t1.next\n",
    "            temp=temp.next\n",
    "\n",
    "        while(t2):\n",
    "            temp.next=t2\n",
    "            t2=t2.next\n",
    "            temp=temp.next\n",
    "\n",
    "        return dummyNode.next\n",
    "\n",
    "\n",
    "\n",
    "s_ml=Solution_ml()\n",
    "res=s_ml.mergeTwoLists(linked_list1,linked_list2)\n",
    "while res is not None:\n",
    "    print(res.data)\n",
    "    res=res.next\n",
    "\n",
    "#res.printList()\n"
   ],
   "metadata": {
    "collapsed": false,
    "pycharm": {
     "name": "#%%\n"
    }
   }
  }
 ],
 "metadata": {
  "kernelspec": {
   "display_name": "Python 3",
   "language": "python",
   "name": "python3"
  },
  "language_info": {
   "codemirror_mode": {
    "name": "ipython",
    "version": 2
   },
   "file_extension": ".py",
   "mimetype": "text/x-python",
   "name": "python",
   "nbconvert_exporter": "python",
   "pygments_lexer": "ipython2",
   "version": "2.7.6"
  }
 },
 "nbformat": 4,
 "nbformat_minor": 0
}