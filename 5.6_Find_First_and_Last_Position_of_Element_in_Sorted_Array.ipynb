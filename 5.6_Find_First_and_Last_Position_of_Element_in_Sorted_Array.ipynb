{
 "cells": [
  {
   "cell_type": "markdown",
   "metadata": {
    "collapsed": true,
    "pycharm": {
     "name": "#%% md\n"
    }
   },
   "source": [
    "Given an array of integers nums sorted in ascending order, find the starting and ending position of a given target value.\n",
    "\n",
    "If target is not found in the array, return [-1, -1].\n",
    "\n",
    "Follow up: Could you write an algorithm with O(log n) runtime complexity?\n",
    "\n",
    "\n",
    "\n",
    "Example 1:\n",
    "\n",
    "Input: nums = [5,7,7,8,8,10], target = 8\n",
    "Output: [3,4]\n",
    "Example 2:\n",
    "\n",
    "Input: nums = [5,7,7,8,8,10], target = 6\n",
    "Output: [-1,-1]\n",
    "Example 3:\n",
    "\n",
    "Input: nums = [], target = 0\n",
    "Output: [-1,-1]"
   ]
  },
  {
   "cell_type": "code",
   "execution_count": 2,
   "outputs": [],
   "source": [
    "class First_last_pos:\n",
    "    def firstPos(self, nums, target):\n",
    "        left=0\n",
    "        right=len(nums)-1\n",
    "\n",
    "        while(left<=right):\n",
    "            mid=left+(right-left)//2\n",
    "            if(nums[mid]==target):\n",
    "                if(mid==0 or mid-1>=0 and nums[mid-1]!=target):\n",
    "                    return mid\n",
    "                right=mid-1\n",
    "            elif(nums[mid]>target):\n",
    "                right=mid-1\n",
    "            else:\n",
    "                left=mid+1\n",
    "        return -1\n",
    "\n",
    "    def lastPos(self, nums, target):\n",
    "        left=0\n",
    "        right=len(nums)-1\n",
    "\n",
    "        while(left<=right):\n",
    "            mid=left+(right-left)//2\n",
    "            if(nums[mid]==target):\n",
    "                if(mid==len(nums)-1 or mid+1<len(nums) and nums[mid+1]!=target):\n",
    "                    return mid\n",
    "                left=mid+1\n",
    "            elif(nums[mid]>target):\n",
    "                right=mid-1\n",
    "            else:\n",
    "                left=mid+1\n",
    "        return -1\n",
    "\n",
    "    def searchRange(self, nums, target):\n",
    "        first=self.firstPos(nums,target)\n",
    "        last=self.lastPos(nums,target)\n",
    "        return [first,last]"
   ],
   "metadata": {
    "collapsed": false,
    "pycharm": {
     "name": "#%%\n"
    }
   }
  },
  {
   "cell_type": "code",
   "execution_count": 5,
   "outputs": [
    {
     "name": "stdout",
     "output_type": "stream",
     "text": [
      "[1, 2]\n"
     ]
    }
   ],
   "source": [
    "nums = [5,7,7,8,8,10]\n",
    "target = 7\n",
    "s=First_last_pos()\n",
    "res=s.searchRange(nums,target)\n",
    "print(res)"
   ],
   "metadata": {
    "collapsed": false,
    "pycharm": {
     "name": "#%%\n"
    }
   }
  }
 ],
 "metadata": {
  "kernelspec": {
   "display_name": "Python 3",
   "language": "python",
   "name": "python3"
  },
  "language_info": {
   "codemirror_mode": {
    "name": "ipython",
    "version": 2
   },
   "file_extension": ".py",
   "mimetype": "text/x-python",
   "name": "python",
   "nbconvert_exporter": "python",
   "pygments_lexer": "ipython2",
   "version": "2.7.6"
  }
 },
 "nbformat": 4,
 "nbformat_minor": 0
}