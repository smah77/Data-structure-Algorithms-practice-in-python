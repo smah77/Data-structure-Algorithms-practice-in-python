{
 "cells": [
  {
   "cell_type": "code",
   "execution_count": 3,
   "metadata": {
    "collapsed": true
   },
   "outputs": [
    {
     "name": "stdout",
     "output_type": "stream",
     "text": [
      "[[2, 2, 2, 3], [2, 2, 5], [2, 3, 4], [3, 3, 3], [4, 5], [9]]\n"
     ]
    }
   ],
   "source": [
    "class Solution:\n",
    "    def solution(self, candidates,ans,cur,target,index,sum):\n",
    "        if(sum==target):\n",
    "            ans.append(cur[:])\n",
    "        elif(sum<target):\n",
    "            n = len(candidates)\n",
    "            for i in range(index,n):\n",
    "                cur.append(candidates[i])\n",
    "                self.solution(candidates,ans,cur,target,i,sum+candidates[i])\n",
    "                cur.pop()\n",
    "        return\n",
    "    def combinationSum(self, candidates, target):\n",
    "        ans = []\n",
    "        cur = []\n",
    "        self.solution(candidates,ans,cur,target,0,0)\n",
    "        return ans\n",
    "s=Solution()\n",
    "res=s.combinationSum([2,3,4,5,9],9)\n",
    "print(res)"
   ]
  }
 ],
 "metadata": {
  "kernelspec": {
   "display_name": "Python 3",
   "language": "python",
   "name": "python3"
  },
  "language_info": {
   "codemirror_mode": {
    "name": "ipython",
    "version": 2
   },
   "file_extension": ".py",
   "mimetype": "text/x-python",
   "name": "python",
   "nbconvert_exporter": "python",
   "pygments_lexer": "ipython2",
   "version": "2.7.6"
  }
 },
 "nbformat": 4,
 "nbformat_minor": 0
}