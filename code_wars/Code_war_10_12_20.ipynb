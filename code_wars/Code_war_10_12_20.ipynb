{
  "nbformat": 4,
  "nbformat_minor": 0,
  "metadata": {
    "colab": {
      "name": "Code_war_10.12.20",
      "provenance": []
    },
    "kernelspec": {
      "name": "python3",
      "display_name": "Python 3"
    }
  },
  "cells": [
    {
      "cell_type": "code",
      "metadata": {
        "id": "2e6ljrHkm_FG"
      },
      "source": [
        ""
      ],
      "execution_count": null,
      "outputs": []
    },
    {
      "cell_type": "markdown",
      "metadata": {
        "id": "-3nEZ79-nIyG"
      },
      "source": [
        "If we list all the natural numbers below 10 that are multiples of 3 or 5, we get 3, 5, 6 and 9. The sum of these multiples is 23.\r\n",
        "\r\n",
        "Finish the solution so that it returns the sum of all the multiples of 3 or 5 below the number passed in.\r\n",
        "\r\n",
        "Note: If the number is a multiple of both 3 and 5, only count it once. Also, if a number is negative, return 0(for languages that do have them)\r\n",
        "\r\n"
      ]
    },
    {
      "cell_type": "code",
      "metadata": {
        "colab": {
          "base_uri": "https://localhost:8080/"
        },
        "id": "SJ5fT0QynT_M",
        "outputId": "ecf7784c-3913-45c6-87ca-edded6fb7953"
      },
      "source": [
        "def solution(number):\r\n",
        "    num=number\r\n",
        "    total=0\r\n",
        "    if num<3:\r\n",
        "        return 0\r\n",
        "    else:\r\n",
        "        for n in range(num):\r\n",
        "            if(n%3==0):\r\n",
        "                total=total+n\r\n",
        "            elif(n%5==0):\r\n",
        "                total=total+n\r\n",
        "        return total\r\n",
        "solution(16)"
      ],
      "execution_count": 2,
      "outputs": [
        {
          "output_type": "execute_result",
          "data": {
            "text/plain": [
              "60"
            ]
          },
          "metadata": {
            "tags": []
          },
          "execution_count": 2
        }
      ]
    },
    {
      "cell_type": "markdown",
      "metadata": {
        "id": "eqpE-4kYnclY"
      },
      "source": [
        "The goal of this exercise is to convert a string to a new string where each character in the new string is \"(\" if that character appears only once in the original string, or \")\" if that character appears more than once in the original string. Ignore capitalization when determining if a character is a duplicate.\r\n",
        "\r\n",
        "Examples\r\n",
        "\"din\"      =>  \"(((\"\r\n",
        "\"recede\"   =>  \"()()()\"\r\n",
        "\"Success\"  =>  \")())())\"\r\n",
        "\"(( @\"     =>  \"))((\" \r\n"
      ]
    },
    {
      "cell_type": "code",
      "metadata": {
        "id": "wMUtfei0n-eo"
      },
      "source": [
        "def duplicate_encode(word):\r\n",
        "    w1=word\r\n",
        "    w2=word\r\n",
        "    result=\"\"\r\n",
        "    for x in w1:\r\n",
        "        count=0\r\n",
        "        for y in w2:\r\n",
        "            if (x.lower()==y.lower()):\r\n",
        "                count=count+1\r\n",
        "        if(count==1):\r\n",
        "            result=result+\"(\"\r\n",
        "        else:\r\n",
        "            result=result+\")\"\r\n",
        "    return result"
      ],
      "execution_count": null,
      "outputs": []
    },
    {
      "cell_type": "markdown",
      "metadata": {
        "id": "pDLD7XJGoFiS"
      },
      "source": [
        "A square of squares\r\n",
        "You like building blocks. You especially like building blocks that are squares. And what you even like more, is to arrange them into a square of square building blocks!\r\n",
        "\r\n",
        "However, sometimes, you can't arrange them into a square. Instead, you end up with an ordinary rectangle! Those blasted things! If you just had a way to know, whether you're currently working in vain… Wait! That's it! You just have to check if your number of building blocks is a perfect square.\r\n",
        "\r\n",
        "Task\r\n",
        "Given an integral number, determine if it's a square number:\r\n",
        "\r\n",
        "In mathematics, a square number or perfect square is an integer that is the square of an integer; in other words, it is the product of some integer with itself.\r\n",
        "\r\n",
        "The tests will always use some integral number, so don't worry about that in dynamic typed languages.\r\n",
        "\r\n",
        "Examples\r\n",
        "-1  =>  false\r\n",
        " 0  =>  true\r\n",
        " 3  =>  false\r\n",
        " 4  =>  true\r\n",
        "25  =>  true\r\n",
        "26  =>  false"
      ]
    },
    {
      "cell_type": "code",
      "metadata": {
        "id": "slWbpPIgoNXS"
      },
      "source": [
        "import math\r\n",
        "def is_square(num):\r\n",
        "    n=int(num)\r\n",
        "    if n<0:\r\n",
        "        return False\r\n",
        "    else: \r\n",
        "        root = math.sqrt(n)\r\n",
        "        if int(root + 0.5) ** 2 == n:\r\n",
        "            return True\r\n",
        "        else:\r\n",
        "            return False"
      ],
      "execution_count": null,
      "outputs": []
    },
    {
      "cell_type": "markdown",
      "metadata": {
        "id": "7OBOYl9eoTAF"
      },
      "source": [
        "**Find the next perfect square!**\r\n",
        "You might know some pretty large perfect squares. But what about the NEXT one?\r\n",
        "\r\n",
        "Complete the findNextSquare method that finds the next integral perfect square after the one passed as a parameter. Recall that an integral perfect square is an integer n such that sqrt(n) is also an integer.\r\n",
        "\r\n",
        "If the parameter is itself not a perfect square then -1 should be returned. You may assume the parameter is positive.\r\n",
        "\r\n",
        "Examples:\r\n",
        "\r\n",
        "findNextSquare(121) --> returns 144\r\n",
        "findNextSquare(625) --> returns 676\r\n",
        "findNextSquare(114) --> returns -1 since 114 is not a perfect"
      ]
    },
    {
      "cell_type": "code",
      "metadata": {
        "id": "PZFgoM5xomYe"
      },
      "source": [
        "import math\r\n",
        "def find_next_square(sq):\r\n",
        "    number = int(sq)\r\n",
        "    root = math.sqrt(number)\r\n",
        "    if int(root + 0.5) ** 2 == number:\r\n",
        "        next=root+1\r\n",
        "        return int(next + 0.5) ** 2\r\n",
        "    else:\r\n",
        "        return -1"
      ],
      "execution_count": null,
      "outputs": []
    },
    {
      "cell_type": "markdown",
      "metadata": {
        "id": "ELgEYgrWoqVY"
      },
      "source": [
        "**Printer Errors**\r\n",
        "\r\n",
        "n a factory a printer prints labels for boxes. For one kind of boxes the printer has to use colors which, for the sake of simplicity, are named with letters from a to m.\r\n",
        "\r\n",
        "The colors used by the printer are recorded in a control string. For example a \"good\" control string would be aaabbbbhaijjjm meaning that the printer used three times color a, four times color b, one time color h then one time color a...\r\n",
        "\r\n",
        "Sometimes there are problems: lack of colors, technical malfunction and a \"bad\" control string is produced e.g. aaaxbbbbyyhwawiwjjjwwm with letters not from a to m.\r\n",
        "\r\n",
        "You have to write a function printer_error which given a string will return the error rate of the printer as a string representing a rational whose numerator is the number of errors and the denominator the length of the control string. Don't reduce this fraction to a simpler expression.\r\n",
        "\r\n",
        "The string has a length greater or equal to one and contains only letters from ato z.\r\n",
        "\r\n",
        "Examples:\r\n",
        "s=\"aaabbbbhaijjjm\"\r\n",
        "error_printer(s) => \"0/14\"\r\n",
        "\r\n",
        "s=\"aaaxbbbbyyhwawiwjjjwwm\"\r\n",
        "error_printer(s) => \"8/22\""
      ]
    },
    {
      "cell_type": "code",
      "metadata": {
        "id": "bE-4KkwjpB-H"
      },
      "source": [
        "def printer_error(s):\r\n",
        "    count=0\r\n",
        "    for x in s:\r\n",
        "        if ord(x)>ord('m'):\r\n",
        "            count=count+1\r\n",
        "    l=len(s)\r\n",
        "    return str(count)+\"/\"+str(l)\r\n",
        "        "
      ],
      "execution_count": null,
      "outputs": []
    },
    {
      "cell_type": "markdown",
      "metadata": {
        "id": "fNnAM_v3pFcO"
      },
      "source": [
        "**Split Strings**\r\n",
        "\r\n",
        "\r\n",
        "Complete the solution so that it splits the string into pairs of two characters. If the string contains an odd number of characters then it should replace the missing second character of the final pair with an underscore ('_').\r\n",
        "\r\n",
        "Examples:\r\n",
        "\r\n",
        "solution('abc') # should return ['ab', 'c_']\r\n",
        "solution('abcdef') # should return ['ab', 'cd', 'ef']\r\n",
        "\r\n"
      ]
    },
    {
      "cell_type": "code",
      "metadata": {
        "id": "FEpIPjwbpWQM"
      },
      "source": [
        "def solution(s):\r\n",
        "    st=s\r\n",
        "    if len(s)%2!=0:\r\n",
        "        st=s+\"_\"\r\n",
        "    #print(st)\r\n",
        "    lst=[]\r\n",
        "    i=\"\"\r\n",
        "    count=0\r\n",
        "    for x in st:\r\n",
        "        count=count+1\r\n",
        "        i=i+x\r\n",
        "        if count%2==0:\r\n",
        "            lst.append(i)\r\n",
        "            i=\"\"\r\n",
        "    return lst"
      ],
      "execution_count": null,
      "outputs": []
    },
    {
      "cell_type": "markdown",
      "metadata": {
        "id": "Cs42fjJYpa1j"
      },
      "source": [
        ""
      ]
    }
  ]
}