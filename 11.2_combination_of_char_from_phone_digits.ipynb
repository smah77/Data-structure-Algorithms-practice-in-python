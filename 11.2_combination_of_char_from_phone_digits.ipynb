{
 "cells": [
  {
   "cell_type": "code",
   "execution_count": 2,
   "metadata": {
    "collapsed": true
   },
   "outputs": [
    {
     "data": {
      "text/plain": "['ag', 'ah', 'ai', 'bg', 'bh', 'bi', 'cg', 'ch', 'ci']"
     },
     "execution_count": 2,
     "metadata": {},
     "output_type": "execute_result"
    }
   ],
   "source": [
    "class Solution:\n",
    "\n",
    "    def backtracking(self, ans, m, digits, combination, index):\n",
    "        if(index > len(digits)):\n",
    "            return\n",
    "        if(len(combination) == len(digits)):\n",
    "            ans.append(combination[:])\n",
    "            return\n",
    "\n",
    "        currentDigit = digits[index]\n",
    "        curString = m[currentDigit]\n",
    "\n",
    "        for i in range(len(curString)):\n",
    "            self.backtracking(ans, m, digits, combination +\n",
    "                              curString[i], index+1)\n",
    "\n",
    "    def letterCombinations(self, digits):\n",
    "        ans = []\n",
    "        if(len(digits) == 0):\n",
    "            return ans\n",
    "\n",
    "        m = {}\n",
    "\n",
    "        m['2'] = \"abc\"\n",
    "        m['3'] = \"def\"\n",
    "        m['4'] = \"ghi\"\n",
    "        m['5'] = \"jkl\"\n",
    "        m['6'] = \"mno\"\n",
    "        m['7'] = \"pqrs\"\n",
    "        m['8'] = \"tuv\"\n",
    "        m['9'] = \"wxyz\"\n",
    "\n",
    "        self.backtracking(ans, m, digits, \"\", 0)\n",
    "\n",
    "        return ans\n",
    "s=Solution()\n",
    "s.letterCombinations(\"24\")"
   ]
  }
 ],
 "metadata": {
  "kernelspec": {
   "display_name": "Python 3",
   "language": "python",
   "name": "python3"
  },
  "language_info": {
   "codemirror_mode": {
    "name": "ipython",
    "version": 2
   },
   "file_extension": ".py",
   "mimetype": "text/x-python",
   "name": "python",
   "nbconvert_exporter": "python",
   "pygments_lexer": "ipython2",
   "version": "2.7.6"
  }
 },
 "nbformat": 4,
 "nbformat_minor": 0
}