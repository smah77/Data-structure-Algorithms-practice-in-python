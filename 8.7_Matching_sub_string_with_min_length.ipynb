{
 "cells": [
  {
   "cell_type": "markdown",
   "metadata": {
    "collapsed": true,
    "pycharm": {
     "name": "#%% md\n"
    }
   },
   "source": [
    "Minimum Window Substring\n",
    "-------------------------------\n",
    "Given two strings s and t, return the minimum window in s which will contain all the characters in t. If there is no such window in s that covers all characters in t, return the empty string \"\".\n",
    "Note that If there is such a window, it is guaranteed that there will always be only one unique minimum window in s.\n",
    "\n",
    "Example 1:\n",
    "Input: s = \"ADOBECODEBANC\", t = \"ABC\"\n",
    "Output: \"BANC\"\n",
    "\n",
    "Example 2:\n",
    "Input: s = \"a\", t = \"a\"\n",
    "Output: \"a\""
   ]
  },
  {
   "cell_type": "code",
   "execution_count": 2,
   "outputs": [
    {
     "name": "stdout",
     "output_type": "stream",
     "text": [
      "ADOBEC\n"
     ]
    }
   ],
   "source": [
    "class Solution:\n",
    "    def minWindow(self, s, t ):\n",
    "        len1=len(s)\n",
    "        len2=len(t)\n",
    "        if(len2>len1):\n",
    "            return \"\"\n",
    "\n",
    "        hashPat={}\n",
    "        hashStr={}\n",
    "\n",
    "        for i in range(0,len2):\n",
    "            if(hashPat.get(t[i]) is None):\n",
    "                hashPat[t[i]]=0\n",
    "            hashPat[t[i]]+=1\n",
    "\n",
    "        count=0\n",
    "        left=0\n",
    "        startIndex=-1\n",
    "        minLen=float(\"inf\")\n",
    "\n",
    "        for right in range(0,len1):\n",
    "            if(hashStr.get(s[right]) is None):\n",
    "                hashStr[s[right]]=0\n",
    "            hashStr[s[right]]+=1\n",
    "\n",
    "            if(hashPat.get(s[right]) is None):\n",
    "                hashPat[s[right]]=0\n",
    "            if(hashStr.get(s[right])<=hashPat.get(s[right])):\n",
    "                count+=1\n",
    "\n",
    "            if(count==len2):\n",
    "                while(hashStr.get(s[left])>hashPat.get(s[left])):\n",
    "                    hashStr[s[left]]-=1\n",
    "                    left+=1\n",
    "                windowLen=right-left+1\n",
    "                if(minLen>windowLen):\n",
    "                    minLen=windowLen\n",
    "                    startIndex=left\n",
    "\n",
    "        if(startIndex==-1):\n",
    "            return \"\"\n",
    "        return s[startIndex:startIndex+minLen]\n",
    "\n",
    "s = \"DDADOBECODEBANC\"\n",
    "t = \"DABC\"\n",
    "so=Solution()\n",
    "res=so.minWindow(s,t)\n",
    "print(res)\n",
    "\n",
    "\n",
    "\n"
   ],
   "metadata": {
    "collapsed": false,
    "pycharm": {
     "name": "#%%\n"
    }
   }
  }
 ],
 "metadata": {
  "kernelspec": {
   "display_name": "Python 3",
   "language": "python",
   "name": "python3"
  },
  "language_info": {
   "codemirror_mode": {
    "name": "ipython",
    "version": 2
   },
   "file_extension": ".py",
   "mimetype": "text/x-python",
   "name": "python",
   "nbconvert_exporter": "python",
   "pygments_lexer": "ipython2",
   "version": "2.7.6"
  }
 },
 "nbformat": 4,
 "nbformat_minor": 0
}