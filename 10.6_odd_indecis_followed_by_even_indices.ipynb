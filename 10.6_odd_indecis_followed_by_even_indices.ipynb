{
 "cells": [
  {
   "cell_type": "markdown",
   "metadata": {
    "collapsed": true,
    "pycharm": {
     "name": "#%% md\n"
    }
   },
   "source": [
    "Given the head of a singly linked list, group all the nodes with odd indices together followed by the nodes with even indices, and return the reordered list.\n",
    "\n",
    "The first node is considered odd, and the second node is even, and so on.\n",
    "\n",
    "Note that the relative order inside both the even and odd groups should remain as it was in the input.\n",
    "\n",
    "\n",
    "\n",
    "Example 1:\n",
    "\n",
    "\n",
    "Input: head = [1,2,3,4,5]\n",
    "Output: [1,3,5,2,4]\n",
    "Example 2:\n",
    "\n",
    "\n",
    "Input: head = [2,1,3,5,6,4,7]\n",
    "Output: [2,3,6,7,1,5,4]"
   ]
  },
  {
   "cell_type": "code",
   "execution_count": 4,
   "outputs": [
    {
     "name": "stdout",
     "output_type": "stream",
     "text": [
      "2\n",
      "1\n",
      "3\n",
      "5\n",
      "6\n",
      "4\n",
      "7\n"
     ]
    }
   ],
   "source": [
    "class ListNode(object):\n",
    "    def __init__(self, val=0, next=None):\n",
    "        self.val = val\n",
    "        self.next = next\n",
    "def arrToLL(arr):\n",
    "    l=ListNode(arr[0])\n",
    "    head=l\n",
    "    for i in range(1,len(arr)):\n",
    "        temp_node=ListNode(arr[i])\n",
    "        #print(i)\n",
    "        #print(temp_node.val)\n",
    "        l.next=temp_node\n",
    "        l=l.next\n",
    "\n",
    "    #print(head.val)\n",
    "    return head\n",
    "\n",
    "arr=[2,1,3,5,6,4,7]\n",
    "head=arrToLL(arr)\n",
    "temp=head\n",
    "while temp is not None:\n",
    "    print(temp.val)\n",
    "    temp=temp.next"
   ],
   "metadata": {
    "collapsed": false,
    "pycharm": {
     "name": "#%%\n"
    }
   }
  },
  {
   "cell_type": "code",
   "execution_count": 5,
   "outputs": [
    {
     "name": "stdout",
     "output_type": "stream",
     "text": [
      "2\n",
      "3\n",
      "6\n",
      "7\n",
      "1\n",
      "5\n",
      "4\n"
     ]
    }
   ],
   "source": [
    "class Solution:\n",
    "    def oddEvenList(self, head: ListNode) -> ListNode:\n",
    "        if(not head):\n",
    "            return head\n",
    "\n",
    "        odd = head\n",
    "        even = odd.next\n",
    "        evenList = even\n",
    "\n",
    "        while(even and even.next):\n",
    "            odd.next = even.next\n",
    "            odd = odd.next\n",
    "\n",
    "            even.next = odd.next\n",
    "            even = even.next\n",
    "\n",
    "        odd.next = evenList\n",
    "        return head\n",
    "s=Solution()\n",
    "res=s.oddEvenList(head)\n",
    "temp=res\n",
    "while temp is not None:\n",
    "    print(temp.val)\n",
    "    temp=temp.next"
   ],
   "metadata": {
    "collapsed": false,
    "pycharm": {
     "name": "#%%\n"
    }
   }
  }
 ],
 "metadata": {
  "kernelspec": {
   "display_name": "Python 3",
   "language": "python",
   "name": "python3"
  },
  "language_info": {
   "codemirror_mode": {
    "name": "ipython",
    "version": 2
   },
   "file_extension": ".py",
   "mimetype": "text/x-python",
   "name": "python",
   "nbconvert_exporter": "python",
   "pygments_lexer": "ipython2",
   "version": "2.7.6"
  }
 },
 "nbformat": 4,
 "nbformat_minor": 0
}