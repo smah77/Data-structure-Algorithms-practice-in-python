{
 "cells": [
  {
   "cell_type": "code",
   "execution_count": 1,
   "metadata": {
    "collapsed": true
   },
   "outputs": [],
   "source": [
    "class PlateStack:\n",
    "\n",
    "    def __init__(self):\n",
    "        self.st = []\n",
    "\n",
    "    def push(self, x: int) -> None:\n",
    "        self.st.append(x)\n",
    "\n",
    "    def pop(self) -> None:\n",
    "        if(len(self.st) > 0):\n",
    "            self.st.pop()\n",
    "\n",
    "    def top(self) -> int:\n",
    "        if(len(self.st) == 0):\n",
    "            return None\n",
    "        return self.st[-1]\n",
    "\n",
    "    def getLen(self) -> int:\n",
    "      return len(self.st)"
   ]
  },
  {
   "cell_type": "code",
   "execution_count": 5,
   "outputs": [
    {
     "name": "stdout",
     "output_type": "stream",
     "text": [
      "[1, 2, 3]\n",
      "[1, 2]\n"
     ]
    }
   ],
   "source": [
    "s=PlateStack()\n",
    "s.push(1)\n",
    "s.push(2)\n",
    "s.push(3)\n",
    "print(s.st)"
   ],
   "metadata": {
    "collapsed": false,
    "pycharm": {
     "name": "#%%\n"
    }
   }
  },
  {
   "cell_type": "code",
   "execution_count": null,
   "outputs": [],
   "source": [
    "s.pop()\n",
    "print(s.st)"
   ],
   "metadata": {
    "collapsed": false,
    "pycharm": {
     "name": "#%%\n"
    }
   }
  }
 ],
 "metadata": {
  "kernelspec": {
   "display_name": "Python 3",
   "language": "python",
   "name": "python3"
  },
  "language_info": {
   "codemirror_mode": {
    "name": "ipython",
    "version": 2
   },
   "file_extension": ".py",
   "mimetype": "text/x-python",
   "name": "python",
   "nbconvert_exporter": "python",
   "pygments_lexer": "ipython2",
   "version": "2.7.6"
  }
 },
 "nbformat": 4,
 "nbformat_minor": 0
}