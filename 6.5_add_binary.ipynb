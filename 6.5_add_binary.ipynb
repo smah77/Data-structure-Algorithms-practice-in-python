{
 "cells": [
  {
   "cell_type": "markdown",
   "metadata": {
    "collapsed": true,
    "pycharm": {
     "name": "#%% md\n"
    }
   },
   "source": [
    "Given two binary strings a and b, return their sum as a binary string.\n",
    "\n",
    "Example 1:\n",
    "\n",
    "Input: a = \"11\", b = \"1\"\n",
    "Output: \"100\"\n",
    "Example 2:\n",
    "\n",
    "Input: a = \"1010\", b = \"1011\"\n",
    "Output: \"10101\""
   ]
  },
  {
   "cell_type": "code",
   "execution_count": 3,
   "outputs": [],
   "source": [
    "class Solution(object):\n",
    "    def addBinary(self, a, b):\n",
    "        result = []\n",
    "        carry = 0\n",
    "        i = len(a)-1\n",
    "        j = len(b)-1\n",
    "\n",
    "        while i >= 0 or j >= 0 or carry:\n",
    "            total = carry\n",
    "            if i >= 0:\n",
    "                total += int(a[i])\n",
    "                i -= 1\n",
    "            print(\"ti\",total)\n",
    "            if j >= 0:\n",
    "                total += int(b[j])\n",
    "                j -= 1\n",
    "            print(\"tj\",total)\n",
    "            result.append(str(total % 2))\n",
    "            carry = total//2\n",
    "            print(\"cr\",carry)\n",
    "\n",
    "        return ''.join(reversed(result))"
   ],
   "metadata": {
    "collapsed": false,
    "pycharm": {
     "name": "#%%\n"
    }
   }
  },
  {
   "cell_type": "code",
   "execution_count": 4,
   "outputs": [
    {
     "name": "stdout",
     "output_type": "stream",
     "text": [
      "ti 0\n",
      "tj 1\n",
      "cr 0\n",
      "ti 1\n",
      "tj 2\n",
      "cr 1\n",
      "ti 1\n",
      "tj 1\n",
      "cr 0\n",
      "ti 1\n",
      "tj 2\n",
      "cr 1\n",
      "ti 1\n",
      "tj 1\n",
      "cr 0\n",
      "10101\n"
     ]
    }
   ],
   "source": [
    "#Input: a = \"1010\", b = \"1011\"\n",
    "#Output: \"10101\"\n",
    "a = \"1010\"\n",
    "b = \"1011\"\n",
    "s=Solution()\n",
    "res=s.addBinary(a,b)\n",
    "print(res)"
   ],
   "metadata": {
    "collapsed": false,
    "pycharm": {
     "name": "#%%\n"
    }
   }
  }
 ],
 "metadata": {
  "kernelspec": {
   "display_name": "Python 3",
   "language": "python",
   "name": "python3"
  },
  "language_info": {
   "codemirror_mode": {
    "name": "ipython",
    "version": 2
   },
   "file_extension": ".py",
   "mimetype": "text/x-python",
   "name": "python",
   "nbconvert_exporter": "python",
   "pygments_lexer": "ipython2",
   "version": "2.7.6"
  }
 },
 "nbformat": 4,
 "nbformat_minor": 0
}