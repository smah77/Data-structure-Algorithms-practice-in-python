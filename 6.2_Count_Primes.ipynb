{
 "cells": [
  {
   "cell_type": "markdown",
   "metadata": {
    "collapsed": true,
    "pycharm": {
     "name": "#%% md\n"
    }
   },
   "source": [
    "Count the number of prime numbers less than a non-negative number, n.\n",
    "\n",
    "Example 1:\n",
    "Input: n = 10\n",
    "Output: 4\n",
    "Explanation: There are 4 prime numbers less than 10, they are 2, 3, 5, 7."
   ]
  },
  {
   "cell_type": "code",
   "execution_count": 18,
   "outputs": [],
   "source": [
    "import math\n",
    "class Solution:\n",
    "    def countPrimeNumbers(self,n):\n",
    "        if n<2:\n",
    "            return 0\n",
    "        isPrime=[True]*n\n",
    "        isPrime[0]=isPrime[1]=False\n",
    "        for i in range(2, int(math.ceil(math.sqrt(n)))):\n",
    "            if isPrime[i]:\n",
    "                for mult_of_i in range(i*i,n,i):\n",
    "                    isPrime[mult_of_i]=False\n",
    "        for i in range(len(isPrime)):\n",
    "            if isPrime[i]:\n",
    "                print(i)\n",
    "        return sum(isPrime)"
   ],
   "metadata": {
    "collapsed": false,
    "pycharm": {
     "name": "#%%\n"
    }
   }
  },
  {
   "cell_type": "code",
   "execution_count": 19,
   "outputs": [
    {
     "name": "stdout",
     "output_type": "stream",
     "text": [
      "2\n",
      "3\n",
      "5\n",
      "7\n",
      "4\n"
     ]
    }
   ],
   "source": [
    "s=Solution()\n",
    "n=10\n",
    "res=s.countPrimeNumbers(n)\n",
    "print(res)"
   ],
   "metadata": {
    "collapsed": false,
    "pycharm": {
     "name": "#%%\n"
    }
   }
  }
 ],
 "metadata": {
  "kernelspec": {
   "display_name": "Python 3",
   "language": "python",
   "name": "python3"
  },
  "language_info": {
   "codemirror_mode": {
    "name": "ipython",
    "version": 2
   },
   "file_extension": ".py",
   "mimetype": "text/x-python",
   "name": "python",
   "nbconvert_exporter": "python",
   "pygments_lexer": "ipython2",
   "version": "2.7.6"
  }
 },
 "nbformat": 4,
 "nbformat_minor": 0
}