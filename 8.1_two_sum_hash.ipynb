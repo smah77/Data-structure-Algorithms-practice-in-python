{
 "cells": [
  {
   "cell_type": "code",
   "execution_count": 9,
   "metadata": {
    "collapsed": true
   },
   "outputs": [
    {
     "name": "stdout",
     "output_type": "stream",
     "text": [
      "[[4, 5], [3, 6]]\n"
     ]
    }
   ],
   "source": [
    "# return all pairs\n",
    "class Solution:\n",
    "    def twoSum(self, nums, target):\n",
    "        m={}\n",
    "        res=[]\n",
    "        n=len(nums)\n",
    "        for i in range(0,n):\n",
    "            goal=target-nums[i]\n",
    "            if(goal in m):\n",
    "                #return [m[goal],i]\n",
    "                res.append([m[goal],i])\n",
    "            m[nums[i]]=i\n",
    "        return res\n",
    "s=Solution()\n",
    "res=s.twoSum([2,3,4,5,6,6,7],12)\n",
    "print(res)"
   ]
  },
  {
   "cell_type": "code",
   "execution_count": 10,
   "outputs": [
    {
     "name": "stdout",
     "output_type": "stream",
     "text": [
      "[4, 5]\n"
     ]
    }
   ],
   "source": [
    "# return only one pair\n",
    "class Solution1:\n",
    "    def twoSum(self, nums, target):\n",
    "        m={}\n",
    "        res=[]\n",
    "        n=len(nums)\n",
    "        for i in range(0,n):\n",
    "            goal=target-nums[i]\n",
    "            if(goal in m):\n",
    "                return [m[goal],i]\n",
    "                #res.append([m[goal],i])\n",
    "            m[nums[i]]=i\n",
    "        #return res\n",
    "s=Solution1()\n",
    "res=s.twoSum([2,3,4,5,6,6,7],12)\n",
    "print(res)"
   ],
   "metadata": {
    "collapsed": false,
    "pycharm": {
     "name": "#%%\n"
    }
   }
  }
 ],
 "metadata": {
  "kernelspec": {
   "display_name": "Python 3",
   "language": "python",
   "name": "python3"
  },
  "language_info": {
   "codemirror_mode": {
    "name": "ipython",
    "version": 2
   },
   "file_extension": ".py",
   "mimetype": "text/x-python",
   "name": "python",
   "nbconvert_exporter": "python",
   "pygments_lexer": "ipython2",
   "version": "2.7.6"
  }
 },
 "nbformat": 4,
 "nbformat_minor": 0
}