{
 "cells": [
  {
   "cell_type": "code",
   "execution_count": 1,
   "metadata": {
    "collapsed": true
   },
   "outputs": [
    {
     "name": "stdout",
     "output_type": "stream",
     "text": [
      "2 5 8 6 9 1 "
     ]
    }
   ],
   "source": [
    "from collections import defaultdict\n",
    "\n",
    "\n",
    "class Graph:\n",
    "\n",
    "    def __init__(self):\n",
    "        self.graph = defaultdict(list)\n",
    "\n",
    "    def insertEdge(self, v1, v2):\n",
    "        self.graph[v1].append(v2)\n",
    "\n",
    "    def DFS(self, startNode):\n",
    "        visited = set()\n",
    "        st = []\n",
    "        st.append(startNode)\n",
    "\n",
    "        while(len(st)):\n",
    "            cur = st[-1]\n",
    "            st.pop()\n",
    "\n",
    "            if(cur not in visited):\n",
    "                print(cur, end=\" \")\n",
    "                visited.add(cur)\n",
    "\n",
    "            for vertex in self.graph[cur]:\n",
    "                if(vertex not in visited):\n",
    "                    st.append(vertex)\n",
    "\n",
    "\n",
    "g = Graph()\n",
    "\n",
    "g.insertEdge(2, 1)\n",
    "g.insertEdge(2, 5)\n",
    "g.insertEdge(5, 6)\n",
    "g.insertEdge(5, 8)\n",
    "g.insertEdge(6, 9)\n",
    "\n",
    "\n",
    "g.DFS(2)"
   ]
  }
 ],
 "metadata": {
  "kernelspec": {
   "display_name": "Python 3",
   "language": "python",
   "name": "python3"
  },
  "language_info": {
   "codemirror_mode": {
    "name": "ipython",
    "version": 2
   },
   "file_extension": ".py",
   "mimetype": "text/x-python",
   "name": "python",
   "nbconvert_exporter": "python",
   "pygments_lexer": "ipython2",
   "version": "2.7.6"
  }
 },
 "nbformat": 4,
 "nbformat_minor": 0
}