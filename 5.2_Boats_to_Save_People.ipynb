{
 "cells": [
  {
   "cell_type": "markdown",
   "metadata": {
    "collapsed": true,
    "pycharm": {
     "name": "#%% md\n"
    }
   },
   "source": [
    "You are given an array people where people[i] is the weight of the ith person, and an infinite number of boats where each boat can carry a maximum weight of limit. Each boat carries at most two people at the same time, provided the sum of the weight of those people is at most limit.\n",
    "Return the minimum number of boats to carry every given person.\n",
    "\n",
    "Example 1:\n",
    "\n",
    "Input: people = [1,2], limit = 3\n",
    "Output: 1\n",
    "Explanation: 1 boat (1, 2)\n",
    "Example 2:\n",
    "\n",
    "Input: people = [3,2,2,1], limit = 3\n",
    "Output: 3\n",
    "Explanation: 3 boats (1, 2), (2) and (3)\n",
    "Example 3:\n",
    "\n",
    "Input: people = [3,5,3,4], limit = 5\n",
    "Output: 4\n",
    "Explanation: 4 boats (3), (3), (4), (5)"
   ]
  },
  {
   "cell_type": "code",
   "source": [
    "# a boat can take only 2 people\n",
    "class Solution(object):\n",
    "    def numRescueBoats(self, people, limit):\n",
    "        people.sort()\n",
    "\n",
    "        left=0\n",
    "        right=len(people)-1\n",
    "\n",
    "        boat_num=0\n",
    "\n",
    "        while(left<=right):\n",
    "            if(left==right):\n",
    "                boat_num+=1\n",
    "                break\n",
    "            if(people[left]+people[right]<=limit):\n",
    "                left+=1\n",
    "            right-=1\n",
    "            boat_num+=1\n",
    "\n",
    "        return boat_num\n",
    "\n"
   ],
   "metadata": {
    "collapsed": false,
    "pycharm": {
     "name": "#%%\n"
    }
   },
   "execution_count": 66,
   "outputs": []
  },
  {
   "cell_type": "code",
   "execution_count": 67,
   "outputs": [],
   "source": [
    "# a boat can take arbitrary num of people but under the limit\n",
    "class Solution1(object):\n",
    "    def numRescueBoats(self, people, limit):\n",
    "        people.sort()\n",
    "\n",
    "        left=0\n",
    "        right=len(people)-1\n",
    "\n",
    "        boat_num=0\n",
    "\n",
    "        while(left<=right):\n",
    "            if(left==right):\n",
    "                boat_num+=1\n",
    "                break\n",
    "            tw=people[right]\n",
    "            while(tw+people[left]<=limit):\n",
    "                left+=1\n",
    "                tw=tw+people[left]\n",
    "            right-=1\n",
    "            boat_num+=1\n",
    "\n",
    "        return boat_num"
   ],
   "metadata": {
    "collapsed": false,
    "pycharm": {
     "name": "#%%\n"
    }
   }
  },
  {
   "cell_type": "code",
   "execution_count": 70,
   "outputs": [
    {
     "name": "stdout",
     "output_type": "stream",
     "text": [
      "[1, 1, 1, 1, 1, 1]\n"
     ]
    }
   ],
   "source": [
    "#people = [3,2,2,1]\n",
    "people = [1,1,1,1,1,1]\n",
    "limit = 3\n",
    "people.sort()\n",
    "print(people)"
   ],
   "metadata": {
    "collapsed": false,
    "pycharm": {
     "name": "#%%\n"
    }
   }
  },
  {
   "cell_type": "code",
   "execution_count": 71,
   "outputs": [
    {
     "data": {
      "text/plain": "2"
     },
     "execution_count": 71,
     "metadata": {},
     "output_type": "execute_result"
    }
   ],
   "source": [
    "s=Solution1()\n",
    "s.numRescueBoats(people,limit)"
   ],
   "metadata": {
    "collapsed": false,
    "pycharm": {
     "name": "#%%\n"
    }
   }
  },
  {
   "cell_type": "code",
   "execution_count": 72,
   "outputs": [
    {
     "data": {
      "text/plain": "3"
     },
     "execution_count": 72,
     "metadata": {},
     "output_type": "execute_result"
    }
   ],
   "source": [
    "s=Solution()\n",
    "s.numRescueBoats(people,limit)"
   ],
   "metadata": {
    "collapsed": false,
    "pycharm": {
     "name": "#%%\n"
    }
   }
  }
 ],
 "metadata": {
  "kernelspec": {
   "display_name": "Python 3",
   "language": "python",
   "name": "python3"
  },
  "language_info": {
   "codemirror_mode": {
    "name": "ipython",
    "version": 2
   },
   "file_extension": ".py",
   "mimetype": "text/x-python",
   "name": "python",
   "nbconvert_exporter": "python",
   "pygments_lexer": "ipython2",
   "version": "2.7.6"
  }
 },
 "nbformat": 4,
 "nbformat_minor": 0
}